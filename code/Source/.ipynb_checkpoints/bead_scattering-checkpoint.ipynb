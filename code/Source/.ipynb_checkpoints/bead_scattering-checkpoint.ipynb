{
 "cells": [
  {
   "cell_type": "code",
   "execution_count": 92,
   "metadata": {},
   "outputs": [],
   "source": [
    "from __future__ import division\n",
    "import numpy as np\n",
    "import matplotlib.pyplot as plt\n",
    "import matplotlib.lines as mlines\n",
    "from numpy.lib.scimath import sqrt"
   ]
  },
  {
   "cell_type": "code",
   "execution_count": 110,
   "metadata": {},
   "outputs": [],
   "source": [
    "def calculate_intersection(m, b, x0, y0, r):\n",
    "    disc = sqrt(-b**2 + r**2 +m**2 * r**2 - 2*b*m*x0 - m**2 * x0**2 + 2*b*y0 + 2*m*x0*y0 - y0**2)\n",
    "    add = -b*m+x0+m*y0\n",
    "    fact = np.power(1.0+m**2,-1.0)\n",
    "    root1 = fact*(add+disc)\n",
    "    root2 = fact*(add-disc)\n",
    "    return (root1, m*root1 + b, root2, m*root2 + b)\n",
    "def calculate_normal(x, y, x0, y0, r):\n",
    "    m = (y-y0)/(x-x0)\n",
    "    b = y0 - m*x0\n",
    "    return m, b\n",
    "def angle_between(m1,m2):\n",
    "    theta = np.arctan((m2-m1)/(1+m1*m2))\n",
    "    return theta\n",
    "def snells(theta, n1, n2):\n",
    "    return np.arcsin(n1*np.sin(theta)/n2)\n",
    "def new_slope(m, theta):\n",
    "    return (np.tan(theta) + m)/(1-m*np.tan(theta))\n",
    "def solve_for_line(m,x0,y0):\n",
    "    b = y0 - m*x0\n",
    "    return m, b\n",
    "def middle_line(mincident,x2,y2,x0,y0,r,n=1.49):\n",
    "    mnorm,bnrom = calculate_normal(x2,y2,x0,y0,r)\n",
    "    theta = angle_between(mincident,mnorm)\n",
    "    thetaprime = snells(theta, 1,n)\n",
    "    nslope = new_slope(mnorm,-thetaprime)\n",
    "    m2,b2 = solve_for_line(nslope, x2,y2)\n",
    "    x12,y12,x22,y22 = calculate_intersection(m2, b2, x0, y0, r)\n",
    "    return m2, b2, x12, y12, x22, y22\n",
    "def end_line(mincident,x2,y2,x0,y0,r,n=1.49):\n",
    "    mnorm,bnrom = calculate_normal(x2,y2,x0,y0,r)\n",
    "    theta = angle_between(mincident,mnorm)\n",
    "    thetaprime = snells(theta, n,1)\n",
    "    nslope = new_slope(mnorm,-thetaprime)\n",
    "    m2,b2 = solve_for_line(nslope, x2,y2)\n",
    "    return m2, b2"
   ]
  },
  {
   "cell_type": "code",
   "execution_count": 112,
   "metadata": {},
   "outputs": [
    {
     "data": {
      "text/plain": [
       "[]"
      ]
     },
     "execution_count": 112,
     "metadata": {},
     "output_type": "execute_result"
    },
    {
     "data": {
      "image/png": "[encoded data removed]",
      "text/plain": [
       "<matplotlib.figure.Figure at 0x10946f2d0>"
      ]
     },
     "metadata": {},
     "output_type": "display_data"
    }
   ],
   "source": [
    "m=0; b=0.2; x0=0; y0=0; r=1\n",
    "\n",
    "x1,y1,x2,y2 = calculate_intersection(m, b, x0, y0, r)\n",
    "\n",
    "# lm,lb = calculate_normal(x2,y2,x0,y0,r)\n",
    "# print lm\n",
    "# theta = angle_between(m,lm)\n",
    "# print theta\n",
    "# thetaprime = snells(theta, 1,1.49)\n",
    "# print thetaprime\n",
    "# nslope = new_slope(lm,-thetaprime)\n",
    "# print nslope\n",
    "# m2,b2 = solve_for_line(nslope, x2,y2)\n",
    "\n",
    "# x12,y12,x22,y22 = calculate_intersection(m2, b2, x0, y0, r)\n",
    "m2, b2, x12,y12,x22,y22 = middle_line(m, x2, y2, x0, y0, r)\n",
    "\n",
    "end_line(m2, x22, y22, x0, y0, r)\n",
    "\n",
    "x_first = np.linspace(-2,x2)\n",
    "# x_norm = np.linspace(-2,2)\n",
    "\n",
    "circle = plt.Circle((x0, y0), r, color='r')\n",
    "\n",
    "fig, ax = plt.subplots()\n",
    "ax.set_aspect('equal', 'datalim')\n",
    "# ax.plot([x1,x2],[y1,y2],'o')\n",
    "ax.plot(x_first, m*x_first+b)\n",
    "# ax.plot(x_norm, lm*x_norm+lb)\n",
    "ax.plot([x12,x22], [y12,y22], 'blue')\n",
    "ax.add_artist(circle)\n",
    "ax.plot()\n"
   ]
  },
  {
   "cell_type": "code",
   "execution_count": null,
   "metadata": {},
   "outputs": [],
   "source": []
  }
 ],
 "metadata": {
  "kernelspec": {
   "display_name": "Python 2",
   "language": "python",
   "name": "python2"
  },
  "language_info": {
   "codemirror_mode": {
    "name": "ipython",
    "version": 2
   },
   "file_extension": ".py",
   "mimetype": "text/x-python",
   "name": "python",
   "nbconvert_exporter": "python",
   "pygments_lexer": "ipython2",
   "version": "2.7.10"
  }
 },
 "nbformat": 4,
 "nbformat_minor": 2
}
